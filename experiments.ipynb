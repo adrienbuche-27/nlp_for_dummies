{
 "cells": [
  {
   "cell_type": "code",
   "execution_count": null,
   "metadata": {
    "ExecuteTime": {
     "end_time": "2020-02-28T15:14:25.570348Z",
     "start_time": "2020-02-28T15:14:25.562969Z"
    }
   },
   "outputs": [],
   "source": [
    "import nltk\n",
    "[x.split('.')[0] for x in nltk.corpus.gutenberg.fileids()]"
   ]
  },
  {
   "cell_type": "code",
   "execution_count": null,
   "metadata": {
    "ExecuteTime": {
     "end_time": "2020-02-28T15:23:12.876673Z",
     "start_time": "2020-02-28T15:23:12.861203Z"
    }
   },
   "outputs": [],
   "source": [
    "corpus = nltk.corpus.gutenberg.open('austen-emma.txt').read()"
   ]
  },
  {
   "cell_type": "code",
   "execution_count": null,
   "metadata": {
    "ExecuteTime": {
     "end_time": "2020-02-28T15:23:17.508436Z",
     "start_time": "2020-02-28T15:23:17.476933Z"
    }
   },
   "outputs": [],
   "source": [
    "corpus"
   ]
  },
  {
   "cell_type": "code",
   "execution_count": null,
   "metadata": {
    "ExecuteTime": {
     "end_time": "2020-02-28T15:22:49.372730Z",
     "start_time": "2020-02-28T15:22:49.365527Z"
    }
   },
   "outputs": [],
   "source": [
    "dir(nltk.corpus.gutenberg)"
   ]
  },
  {
   "cell_type": "code",
   "execution_count": null,
   "metadata": {
    "ExecuteTime": {
     "end_time": "2020-02-28T15:00:38.715476Z",
     "start_time": "2020-02-28T15:00:38.708331Z"
    }
   },
   "outputs": [],
   "source": [
    "dir(nltk.corpus.movie_reviews)"
   ]
  },
  {
   "cell_type": "code",
   "execution_count": null,
   "metadata": {
    "ExecuteTime": {
     "end_time": "2020-02-28T15:01:45.438171Z",
     "start_time": "2020-02-28T15:01:45.426048Z"
    }
   },
   "outputs": [],
   "source": [
    "nltk.corpus.movie_reviews.fileids()"
   ]
  },
  {
   "cell_type": "code",
   "execution_count": null,
   "metadata": {
    "ExecuteTime": {
     "end_time": "2020-02-28T15:01:09.684173Z",
     "start_time": "2020-02-28T15:01:09.673314Z"
    }
   },
   "outputs": [],
   "source": [
    "dir(nltk.corpus.gutenberg)"
   ]
  },
  {
   "cell_type": "code",
   "execution_count": null,
   "metadata": {
    "ExecuteTime": {
     "end_time": "2020-02-28T15:03:57.249957Z",
     "start_time": "2020-02-28T15:03:53.891753Z"
    }
   },
   "outputs": [],
   "source": [
    "nltk.corpus.twitter_samples.strings('tweets.20150430-223406.json')"
   ]
  },
  {
   "cell_type": "code",
   "execution_count": null,
   "metadata": {},
   "outputs": [],
   "source": []
  }
 ],
 "metadata": {
  "kernelspec": {
   "display_name": "Python 3",
   "language": "python",
   "name": "python3"
  },
  "language_info": {
   "codemirror_mode": {
    "name": "ipython",
    "version": 3
   },
   "file_extension": ".py",
   "mimetype": "text/x-python",
   "name": "python",
   "nbconvert_exporter": "python",
   "pygments_lexer": "ipython3",
   "version": "3.7.0"
  },
  "toc": {
   "base_numbering": 1,
   "nav_menu": {},
   "number_sections": true,
   "sideBar": true,
   "skip_h1_title": false,
   "title_cell": "Table of Contents",
   "title_sidebar": "Contents",
   "toc_cell": false,
   "toc_position": {},
   "toc_section_display": true,
   "toc_window_display": false
  }
 },
 "nbformat": 4,
 "nbformat_minor": 2
}
