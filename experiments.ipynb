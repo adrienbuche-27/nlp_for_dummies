{
 "cells": [
  {
   "cell_type": "code",
   "execution_count": 35,
   "metadata": {
    "ExecuteTime": {
     "end_time": "2020-03-01T15:38:29.205617Z",
     "start_time": "2020-03-01T15:38:29.200592Z"
    }
   },
   "outputs": [],
   "source": [
    "import warnings\n",
    "warnings.filterwarnings('ignore')"
   ]
  },
  {
   "cell_type": "code",
   "execution_count": null,
   "metadata": {
    "ExecuteTime": {
     "end_time": "2020-02-28T15:14:25.570348Z",
     "start_time": "2020-02-28T15:14:25.562969Z"
    }
   },
   "outputs": [],
   "source": [
    "import nltk\n",
    "[x.split('.')[0] for x in nltk.corpus.gutenberg.fileids()]"
   ]
  },
  {
   "cell_type": "code",
   "execution_count": null,
   "metadata": {
    "ExecuteTime": {
     "end_time": "2020-02-28T15:23:12.876673Z",
     "start_time": "2020-02-28T15:23:12.861203Z"
    }
   },
   "outputs": [],
   "source": [
    "corpus = nltk.corpus.gutenberg.open('austen-emma.txt').read()"
   ]
  },
  {
   "cell_type": "code",
   "execution_count": null,
   "metadata": {
    "ExecuteTime": {
     "end_time": "2020-02-28T15:23:17.508436Z",
     "start_time": "2020-02-28T15:23:17.476933Z"
    }
   },
   "outputs": [],
   "source": [
    "corpus"
   ]
  },
  {
   "cell_type": "code",
   "execution_count": null,
   "metadata": {
    "ExecuteTime": {
     "end_time": "2020-02-28T15:22:49.372730Z",
     "start_time": "2020-02-28T15:22:49.365527Z"
    }
   },
   "outputs": [],
   "source": [
    "dir(nltk.corpus.gutenberg)"
   ]
  },
  {
   "cell_type": "code",
   "execution_count": null,
   "metadata": {
    "ExecuteTime": {
     "end_time": "2020-02-28T15:00:38.715476Z",
     "start_time": "2020-02-28T15:00:38.708331Z"
    }
   },
   "outputs": [],
   "source": [
    "dir(nltk.corpus.movie_reviews)"
   ]
  },
  {
   "cell_type": "code",
   "execution_count": null,
   "metadata": {
    "ExecuteTime": {
     "end_time": "2020-02-28T15:01:45.438171Z",
     "start_time": "2020-02-28T15:01:45.426048Z"
    }
   },
   "outputs": [],
   "source": [
    "nltk.corpus.movie_reviews.fileids()"
   ]
  },
  {
   "cell_type": "code",
   "execution_count": null,
   "metadata": {
    "ExecuteTime": {
     "end_time": "2020-02-28T15:01:09.684173Z",
     "start_time": "2020-02-28T15:01:09.673314Z"
    }
   },
   "outputs": [],
   "source": [
    "dir(nltk.corpus.gutenberg)"
   ]
  },
  {
   "cell_type": "code",
   "execution_count": null,
   "metadata": {
    "ExecuteTime": {
     "end_time": "2020-02-28T15:03:57.249957Z",
     "start_time": "2020-02-28T15:03:53.891753Z"
    }
   },
   "outputs": [],
   "source": [
    "nltk.corpus.twitter_samples.strings('tweets.20150430-223406.json')"
   ]
  },
  {
   "cell_type": "code",
   "execution_count": 1,
   "metadata": {
    "ExecuteTime": {
     "end_time": "2020-03-01T15:21:46.937382Z",
     "start_time": "2020-03-01T15:21:46.416422Z"
    }
   },
   "outputs": [],
   "source": [
    "import pandas as pd"
   ]
  },
  {
   "cell_type": "code",
   "execution_count": 39,
   "metadata": {
    "ExecuteTime": {
     "end_time": "2020-03-01T16:23:40.135300Z",
     "start_time": "2020-03-01T16:23:40.119037Z"
    }
   },
   "outputs": [],
   "source": [
    "from nltk.book import FreqDist"
   ]
  },
  {
   "cell_type": "code",
   "execution_count": 3,
   "metadata": {
    "ExecuteTime": {
     "end_time": "2020-03-01T15:21:50.640453Z",
     "start_time": "2020-03-01T15:21:50.337320Z"
    }
   },
   "outputs": [],
   "source": [
    "tmp = FreqDist(text1)"
   ]
  },
  {
   "cell_type": "code",
   "execution_count": 4,
   "metadata": {
    "ExecuteTime": {
     "end_time": "2020-03-01T15:21:51.180249Z",
     "start_time": "2020-03-01T15:21:51.154041Z"
    }
   },
   "outputs": [],
   "source": [
    "df = pd.DataFrame(tmp.most_common())"
   ]
  },
  {
   "cell_type": "code",
   "execution_count": 7,
   "metadata": {
    "ExecuteTime": {
     "end_time": "2020-03-01T15:22:03.308043Z",
     "start_time": "2020-03-01T15:22:03.303241Z"
    }
   },
   "outputs": [],
   "source": [
    "import plotly"
   ]
  },
  {
   "cell_type": "code",
   "execution_count": 32,
   "metadata": {
    "ExecuteTime": {
     "end_time": "2020-03-01T15:36:30.500193Z",
     "start_time": "2020-03-01T15:36:30.484020Z"
    }
   },
   "outputs": [],
   "source": [
    "import plotly.graph_objs as go\n",
    "from chart_studio.plotly import plot, iplot"
   ]
  },
  {
   "cell_type": "code",
   "execution_count": 38,
   "metadata": {
    "ExecuteTime": {
     "end_time": "2020-03-01T15:40:08.810228Z",
     "start_time": "2020-03-01T15:40:07.214696Z"
    }
   },
   "outputs": [
    {
     "data": {
      "text/html": [
       "<iframe id=\"igraph\" scrolling=\"no\" style=\"border:none;\" seamless=\"seamless\" src=\"https://plot.ly/~Adrien_Buche/30.embed\" height=\"525px\" width=\"100%\"></iframe>"
      ],
      "text/plain": [
       "<chart_studio.tools.PlotlyDisplay object>"
      ]
     },
     "execution_count": 38,
     "metadata": {},
     "output_type": "execute_result"
    }
   ],
   "source": [
    "fig = go.Figure(data=[go.Histogram(\n",
    "    x=df[1],\n",
    "    xbins=dict( # bins used for histogram\n",
    "            start=0,\n",
    "            end=100,\n",
    "            size=1\n",
    "        )\n",
    "    )])\n",
    "iplot(fig)"
   ]
  },
  {
   "cell_type": "code",
   "execution_count": 37,
   "metadata": {
    "ExecuteTime": {
     "end_time": "2020-03-01T15:38:42.987703Z",
     "start_time": "2020-03-01T15:38:42.889906Z"
    }
   },
   "outputs": [
    {
     "ename": "AttributeError",
     "evalue": "'Figure' object has no attribute 'show'",
     "output_type": "error",
     "traceback": [
      "\u001b[0;31m---------------------------------------------------------------------------\u001b[0m",
      "\u001b[0;31mAttributeError\u001b[0m                            Traceback (most recent call last)",
      "\u001b[0;32m<ipython-input-37-e01b761109b5>\u001b[0m in \u001b[0;36m<module>\u001b[0;34m\u001b[0m\n\u001b[1;32m      1\u001b[0m \u001b[0;32mimport\u001b[0m \u001b[0mplotly\u001b[0m\u001b[0;34m.\u001b[0m\u001b[0mgraph_objs\u001b[0m \u001b[0;32mas\u001b[0m \u001b[0mgo\u001b[0m\u001b[0;34m\u001b[0m\u001b[0m\n\u001b[1;32m      2\u001b[0m \u001b[0mfig\u001b[0m \u001b[0;34m=\u001b[0m \u001b[0mgo\u001b[0m\u001b[0;34m.\u001b[0m\u001b[0mFigure\u001b[0m\u001b[0;34m(\u001b[0m\u001b[0mdata\u001b[0m\u001b[0;34m=\u001b[0m\u001b[0;34m[\u001b[0m\u001b[0mgo\u001b[0m\u001b[0;34m.\u001b[0m\u001b[0mBar\u001b[0m\u001b[0;34m(\u001b[0m\u001b[0my\u001b[0m\u001b[0;34m=\u001b[0m\u001b[0;34m[\u001b[0m\u001b[0;36m2\u001b[0m\u001b[0;34m,\u001b[0m \u001b[0;36m3\u001b[0m\u001b[0;34m,\u001b[0m \u001b[0;36m1\u001b[0m\u001b[0;34m]\u001b[0m\u001b[0;34m)\u001b[0m\u001b[0;34m]\u001b[0m\u001b[0;34m)\u001b[0m\u001b[0;34m\u001b[0m\u001b[0m\n\u001b[0;32m----> 3\u001b[0;31m \u001b[0mfig\u001b[0m\u001b[0;34m.\u001b[0m\u001b[0mshow\u001b[0m\u001b[0;34m(\u001b[0m\u001b[0;34m)\u001b[0m\u001b[0;34m\u001b[0m\u001b[0m\n\u001b[0m",
      "\u001b[0;31mAttributeError\u001b[0m: 'Figure' object has no attribute 'show'"
     ]
    }
   ],
   "source": [
    "import plotly.graph_objs as go\n",
    "fig = go.Figure(data=[go.Bar(y=[2, 3, 1])])\n",
    "fig.show()"
   ]
  },
  {
   "cell_type": "code",
   "execution_count": 1,
   "metadata": {
    "ExecuteTime": {
     "end_time": "2020-03-02T08:24:54.057665Z",
     "start_time": "2020-03-02T08:24:46.484338Z"
    }
   },
   "outputs": [
    {
     "name": "stdout",
     "output_type": "stream",
     "text": [
      "*** Introductory Examples for the NLTK Book ***\n",
      "Loading text1, ..., text9 and sent1, ..., sent9\n",
      "Type the name of the text or sentence to view it.\n",
      "Type: 'texts()' or 'sents()' to list the materials.\n",
      "text1: Moby Dick by Herman Melville 1851\n",
      "text2: Sense and Sensibility by Jane Austen 1811\n",
      "text3: The Book of Genesis\n",
      "text4: Inaugural Address Corpus\n",
      "text5: Chat Corpus\n",
      "text6: Monty Python and the Holy Grail\n",
      "text7: Wall Street Journal\n",
      "text8: Personals Corpus\n",
      "text9: The Man Who Was Thursday by G . K . Chesterton 1908\n"
     ]
    }
   ],
   "source": [
    "from nltk.book import *"
   ]
  },
  {
   "cell_type": "code",
   "execution_count": 2,
   "metadata": {
    "ExecuteTime": {
     "end_time": "2020-03-02T08:24:54.091061Z",
     "start_time": "2020-03-02T08:24:54.062628Z"
    }
   },
   "outputs": [
    {
     "name": "stdout",
     "output_type": "stream",
     "text": [
      "sent1: Call me Ishmael .\n",
      "sent2: The family of Dashwood had long been settled in Sussex .\n",
      "sent3: In the beginning God created the heaven and the earth .\n",
      "sent4: Fellow - Citizens of the Senate and of the House of Representatives :\n",
      "sent5: I have a problem with people PMing me to lol JOIN\n",
      "sent6: SCENE 1 : [ wind ] [ clop clop clop ] KING ARTHUR : Whoa there !\n",
      "sent7: Pierre Vinken , 61 years old , will join the board as a nonexecutive director Nov. 29 .\n",
      "sent8: 25 SEXY MALE , seeks attrac older single lady , for discreet encounters .\n",
      "sent9: THE suburb of Saffron Park lay on the sunset side of London , as red and ragged as a cloud of sunset .\n"
     ]
    }
   ],
   "source": [
    "sents()"
   ]
  },
  {
   "cell_type": "markdown",
   "metadata": {},
   "source": [
    "# NLTK Corpus\n",
    "\n",
    "How do you load the data nltk provides ? "
   ]
  },
  {
   "cell_type": "code",
   "execution_count": 4,
   "metadata": {
    "ExecuteTime": {
     "end_time": "2020-03-02T08:25:42.894670Z",
     "start_time": "2020-03-02T08:25:42.879114Z"
    }
   },
   "outputs": [],
   "source": [
    "import nltk.corpus as corpus"
   ]
  },
  {
   "cell_type": "code",
   "execution_count": 10,
   "metadata": {
    "ExecuteTime": {
     "end_time": "2020-03-02T08:26:54.793685Z",
     "start_time": "2020-03-02T08:26:54.776589Z"
    }
   },
   "outputs": [
    {
     "data": {
      "text/plain": [
       "['Apex_AD2600_Progressive_scan_DVD player.txt',\n",
       " 'Canon_G3.txt',\n",
       " 'Creative_Labs_Nomad_Jukebox_Zen_Xtra_40GB.txt',\n",
       " 'Nikon_coolpix_4300.txt',\n",
       " 'Nokia_6610.txt',\n",
       " 'README.txt']"
      ]
     },
     "execution_count": 10,
     "metadata": {},
     "output_type": "execute_result"
    }
   ],
   "source": [
    "corpus.product_reviews_1.fileids()"
   ]
  },
  {
   "cell_type": "code",
   "execution_count": 35,
   "metadata": {
    "ExecuteTime": {
     "end_time": "2020-03-02T08:52:19.475989Z",
     "start_time": "2020-03-02T08:52:19.470129Z"
    }
   },
   "outputs": [],
   "source": [
    "# dir(corpus)"
   ]
  },
  {
   "cell_type": "code",
   "execution_count": 34,
   "metadata": {
    "ExecuteTime": {
     "end_time": "2020-03-02T08:52:16.389965Z",
     "start_time": "2020-03-02T08:52:16.384004Z"
    }
   },
   "outputs": [],
   "source": [
    "# corpus.twitter_samples.read(positive_tweets.json)"
   ]
  },
  {
   "cell_type": "code",
   "execution_count": 21,
   "metadata": {
    "ExecuteTime": {
     "end_time": "2020-03-02T08:28:55.020000Z",
     "start_time": "2020-03-02T08:28:54.913148Z"
    }
   },
   "outputs": [],
   "source": [
    "tmp = corpus.twitter_samples.open('positive_tweets.json').read()"
   ]
  },
  {
   "cell_type": "code",
   "execution_count": 33,
   "metadata": {
    "ExecuteTime": {
     "end_time": "2020-03-02T08:51:53.836579Z",
     "start_time": "2020-03-02T08:51:53.832205Z"
    }
   },
   "outputs": [],
   "source": [
    "# corpus.twitter_samples"
   ]
  },
  {
   "cell_type": "code",
   "execution_count": 28,
   "metadata": {
    "ExecuteTime": {
     "end_time": "2020-03-02T08:32:15.204150Z",
     "start_time": "2020-03-02T08:32:15.198993Z"
    }
   },
   "outputs": [],
   "source": [
    "from nltk.corpus import inaugural"
   ]
  },
  {
   "cell_type": "code",
   "execution_count": 32,
   "metadata": {
    "ExecuteTime": {
     "end_time": "2020-03-02T08:51:45.849292Z",
     "start_time": "2020-03-02T08:51:45.835844Z"
    }
   },
   "outputs": [],
   "source": [
    "# inaugural.fileids()\n",
    "tmp = inaugural.raw('1789-Washington.txt')"
   ]
  },
  {
   "cell_type": "markdown",
   "metadata": {},
   "source": [
    "# NLTK Basic Actions"
   ]
  },
  {
   "cell_type": "code",
   "execution_count": 42,
   "metadata": {
    "ExecuteTime": {
     "end_time": "2020-03-02T08:54:03.367807Z",
     "start_time": "2020-03-02T08:54:03.323484Z"
    }
   },
   "outputs": [
    {
     "data": {
      "text/plain": [
       "[['Fellow',\n",
       "  '-',\n",
       "  'Citizens',\n",
       "  'of',\n",
       "  'the',\n",
       "  'Senate',\n",
       "  'and',\n",
       "  'of',\n",
       "  'the',\n",
       "  'House',\n",
       "  'of',\n",
       "  'Representatives',\n",
       "  ':'],\n",
       " ['Among',\n",
       "  'the',\n",
       "  'vicissitudes',\n",
       "  'incident',\n",
       "  'to',\n",
       "  'life',\n",
       "  'no',\n",
       "  'event',\n",
       "  'could',\n",
       "  'have',\n",
       "  'filled',\n",
       "  'me',\n",
       "  'with',\n",
       "  'greater',\n",
       "  'anxieties',\n",
       "  'than',\n",
       "  'that',\n",
       "  'of',\n",
       "  'which',\n",
       "  'the',\n",
       "  'notification',\n",
       "  'was',\n",
       "  'transmitted',\n",
       "  'by',\n",
       "  'your',\n",
       "  'order',\n",
       "  ',',\n",
       "  'and',\n",
       "  'received',\n",
       "  'on',\n",
       "  'the',\n",
       "  '14th',\n",
       "  'day',\n",
       "  'of',\n",
       "  'the',\n",
       "  'present',\n",
       "  'month',\n",
       "  '.'],\n",
       " ['On',\n",
       "  'the',\n",
       "  'one',\n",
       "  'hand',\n",
       "  ',',\n",
       "  'I',\n",
       "  'was',\n",
       "  'summoned',\n",
       "  'by',\n",
       "  'my',\n",
       "  'Country',\n",
       "  ',',\n",
       "  'whose',\n",
       "  'voice',\n",
       "  'I',\n",
       "  'can',\n",
       "  'never',\n",
       "  'hear',\n",
       "  'but',\n",
       "  'with',\n",
       "  'veneration',\n",
       "  'and',\n",
       "  'love',\n",
       "  ',',\n",
       "  'from',\n",
       "  'a',\n",
       "  'retreat',\n",
       "  'which',\n",
       "  'I',\n",
       "  'had',\n",
       "  'chosen',\n",
       "  'with',\n",
       "  'the',\n",
       "  'fondest',\n",
       "  'predilection',\n",
       "  ',',\n",
       "  'and',\n",
       "  ',',\n",
       "  'in',\n",
       "  'my',\n",
       "  'flattering',\n",
       "  'hopes',\n",
       "  ',',\n",
       "  'with',\n",
       "  'an',\n",
       "  'immutable',\n",
       "  'decision',\n",
       "  ',',\n",
       "  'as',\n",
       "  'the',\n",
       "  'asylum',\n",
       "  'of',\n",
       "  'my',\n",
       "  'declining',\n",
       "  'years',\n",
       "  '--',\n",
       "  'a',\n",
       "  'retreat',\n",
       "  'which',\n",
       "  'was',\n",
       "  'rendered',\n",
       "  'every',\n",
       "  'day',\n",
       "  'more',\n",
       "  'necessary',\n",
       "  'as',\n",
       "  'well',\n",
       "  'as',\n",
       "  'more',\n",
       "  'dear',\n",
       "  'to',\n",
       "  'me',\n",
       "  'by',\n",
       "  'the',\n",
       "  'addition',\n",
       "  'of',\n",
       "  'habit',\n",
       "  'to',\n",
       "  'inclination',\n",
       "  ',',\n",
       "  'and',\n",
       "  'of',\n",
       "  'frequent',\n",
       "  'interruptions',\n",
       "  'in',\n",
       "  'my',\n",
       "  'health',\n",
       "  'to',\n",
       "  'the',\n",
       "  'gradual',\n",
       "  'waste',\n",
       "  'committed',\n",
       "  'on',\n",
       "  'it',\n",
       "  'by',\n",
       "  'time',\n",
       "  '.'],\n",
       " ['On',\n",
       "  'the',\n",
       "  'other',\n",
       "  'hand',\n",
       "  ',',\n",
       "  'the',\n",
       "  'magnitude',\n",
       "  'and',\n",
       "  'difficulty',\n",
       "  'of',\n",
       "  'the',\n",
       "  'trust',\n",
       "  'to',\n",
       "  'which',\n",
       "  'the',\n",
       "  'voice',\n",
       "  'of',\n",
       "  'my',\n",
       "  'country',\n",
       "  'called',\n",
       "  'me',\n",
       "  ',',\n",
       "  'being',\n",
       "  'sufficient',\n",
       "  'to',\n",
       "  'awaken',\n",
       "  'in',\n",
       "  'the',\n",
       "  'wisest',\n",
       "  'and',\n",
       "  'most',\n",
       "  'experienced',\n",
       "  'of',\n",
       "  'her',\n",
       "  'citizens',\n",
       "  'a',\n",
       "  'distrustful',\n",
       "  'scrutiny',\n",
       "  'into',\n",
       "  'his',\n",
       "  'qualifications',\n",
       "  ',',\n",
       "  'could',\n",
       "  'not',\n",
       "  'but',\n",
       "  'overwhelm',\n",
       "  'with',\n",
       "  'despondence',\n",
       "  'one',\n",
       "  'who',\n",
       "  '(',\n",
       "  'inheriting',\n",
       "  'inferior',\n",
       "  'endowments',\n",
       "  'from',\n",
       "  'nature',\n",
       "  'and',\n",
       "  'unpracticed',\n",
       "  'in',\n",
       "  'the',\n",
       "  'duties',\n",
       "  'of',\n",
       "  'civil',\n",
       "  'administration',\n",
       "  ')',\n",
       "  'ought',\n",
       "  'to',\n",
       "  'be',\n",
       "  'peculiarly',\n",
       "  'conscious',\n",
       "  'of',\n",
       "  'his',\n",
       "  'own',\n",
       "  'deficiencies',\n",
       "  '.'],\n",
       " ['In',\n",
       "  'this',\n",
       "  'conflict',\n",
       "  'of',\n",
       "  'emotions',\n",
       "  'all',\n",
       "  'I',\n",
       "  'dare',\n",
       "  'aver',\n",
       "  'is',\n",
       "  'that',\n",
       "  'it',\n",
       "  'has',\n",
       "  'been',\n",
       "  'my',\n",
       "  'faithful',\n",
       "  'study',\n",
       "  'to',\n",
       "  'collect',\n",
       "  'my',\n",
       "  'duty',\n",
       "  'from',\n",
       "  'a',\n",
       "  'just',\n",
       "  'appreciation',\n",
       "  'of',\n",
       "  'every',\n",
       "  'circumstance',\n",
       "  'by',\n",
       "  'which',\n",
       "  'it',\n",
       "  'might',\n",
       "  'be',\n",
       "  'affected',\n",
       "  '.'],\n",
       " ['All',\n",
       "  'I',\n",
       "  'dare',\n",
       "  'hope',\n",
       "  'is',\n",
       "  'that',\n",
       "  'if',\n",
       "  ',',\n",
       "  'in',\n",
       "  'executing',\n",
       "  'this',\n",
       "  'task',\n",
       "  ',',\n",
       "  'I',\n",
       "  'have',\n",
       "  'been',\n",
       "  'too',\n",
       "  'much',\n",
       "  'swayed',\n",
       "  'by',\n",
       "  'a',\n",
       "  'grateful',\n",
       "  'remembrance',\n",
       "  'of',\n",
       "  'former',\n",
       "  'instances',\n",
       "  ',',\n",
       "  'or',\n",
       "  'by',\n",
       "  'an',\n",
       "  'affectionate',\n",
       "  'sensibility',\n",
       "  'to',\n",
       "  'this',\n",
       "  'transcendent',\n",
       "  'proof',\n",
       "  'of',\n",
       "  'the',\n",
       "  'confidence',\n",
       "  'of',\n",
       "  'my',\n",
       "  'fellow',\n",
       "  'citizens',\n",
       "  ',',\n",
       "  'and',\n",
       "  'have',\n",
       "  'thence',\n",
       "  'too',\n",
       "  'little',\n",
       "  'consulted',\n",
       "  'my',\n",
       "  'incapacity',\n",
       "  'as',\n",
       "  'well',\n",
       "  'as',\n",
       "  'disinclination',\n",
       "  'for',\n",
       "  'the',\n",
       "  'weighty',\n",
       "  'and',\n",
       "  'untried',\n",
       "  'cares',\n",
       "  'before',\n",
       "  'me',\n",
       "  ',',\n",
       "  'my',\n",
       "  'error',\n",
       "  'will',\n",
       "  'be',\n",
       "  'palliated',\n",
       "  'by',\n",
       "  'the',\n",
       "  'motives',\n",
       "  'which',\n",
       "  'mislead',\n",
       "  'me',\n",
       "  ',',\n",
       "  'and',\n",
       "  'its',\n",
       "  'consequences',\n",
       "  'be',\n",
       "  'judged',\n",
       "  'by',\n",
       "  'my',\n",
       "  'country',\n",
       "  'with',\n",
       "  'some',\n",
       "  'share',\n",
       "  'of',\n",
       "  'the',\n",
       "  'partiality',\n",
       "  'in',\n",
       "  'which',\n",
       "  'they',\n",
       "  'originated',\n",
       "  '.'],\n",
       " ['Such',\n",
       "  'being',\n",
       "  'the',\n",
       "  'impressions',\n",
       "  'under',\n",
       "  'which',\n",
       "  'I',\n",
       "  'have',\n",
       "  ',',\n",
       "  'in',\n",
       "  'obedience',\n",
       "  'to',\n",
       "  'the',\n",
       "  'public',\n",
       "  'summons',\n",
       "  ',',\n",
       "  'repaired',\n",
       "  'to',\n",
       "  'the',\n",
       "  'present',\n",
       "  'station',\n",
       "  ',',\n",
       "  'it',\n",
       "  'would',\n",
       "  'be',\n",
       "  'peculiarly',\n",
       "  'improper',\n",
       "  'to',\n",
       "  'omit',\n",
       "  'in',\n",
       "  'this',\n",
       "  'first',\n",
       "  'official',\n",
       "  'act',\n",
       "  'my',\n",
       "  'fervent',\n",
       "  'supplications',\n",
       "  'to',\n",
       "  'that',\n",
       "  'Almighty',\n",
       "  'Being',\n",
       "  'who',\n",
       "  'rules',\n",
       "  'over',\n",
       "  'the',\n",
       "  'universe',\n",
       "  ',',\n",
       "  'who',\n",
       "  'presides',\n",
       "  'in',\n",
       "  'the',\n",
       "  'councils',\n",
       "  'of',\n",
       "  'nations',\n",
       "  ',',\n",
       "  'and',\n",
       "  'whose',\n",
       "  'providential',\n",
       "  'aids',\n",
       "  'can',\n",
       "  'supply',\n",
       "  'every',\n",
       "  'human',\n",
       "  'defect',\n",
       "  ',',\n",
       "  'that',\n",
       "  'His',\n",
       "  'benediction',\n",
       "  'may',\n",
       "  'consecrate',\n",
       "  'to',\n",
       "  'the',\n",
       "  'liberties',\n",
       "  'and',\n",
       "  'happiness',\n",
       "  'of',\n",
       "  'the',\n",
       "  'people',\n",
       "  'of',\n",
       "  'the',\n",
       "  'United',\n",
       "  'States',\n",
       "  'a',\n",
       "  'Government',\n",
       "  'instituted',\n",
       "  'by',\n",
       "  'themselves',\n",
       "  'for',\n",
       "  'these',\n",
       "  'essential',\n",
       "  'purposes',\n",
       "  ',',\n",
       "  'and',\n",
       "  'may',\n",
       "  'enable',\n",
       "  'every',\n",
       "  'instrument',\n",
       "  'employed',\n",
       "  'in',\n",
       "  'its',\n",
       "  'administration',\n",
       "  'to',\n",
       "  'execute',\n",
       "  'with',\n",
       "  'success',\n",
       "  'the',\n",
       "  'functions',\n",
       "  'allotted',\n",
       "  'to',\n",
       "  'his',\n",
       "  'charge',\n",
       "  '.'],\n",
       " ['In',\n",
       "  'tendering',\n",
       "  'this',\n",
       "  'homage',\n",
       "  'to',\n",
       "  'the',\n",
       "  'Great',\n",
       "  'Author',\n",
       "  'of',\n",
       "  'every',\n",
       "  'public',\n",
       "  'and',\n",
       "  'private',\n",
       "  'good',\n",
       "  ',',\n",
       "  'I',\n",
       "  'assure',\n",
       "  'myself',\n",
       "  'that',\n",
       "  'it',\n",
       "  'expresses',\n",
       "  'your',\n",
       "  'sentiments',\n",
       "  'not',\n",
       "  'less',\n",
       "  'than',\n",
       "  'my',\n",
       "  'own',\n",
       "  ',',\n",
       "  'nor',\n",
       "  'those',\n",
       "  'of',\n",
       "  'my',\n",
       "  'fellow',\n",
       "  'citizens',\n",
       "  'at',\n",
       "  'large',\n",
       "  'less',\n",
       "  'than',\n",
       "  'either',\n",
       "  '.'],\n",
       " ['No',\n",
       "  'people',\n",
       "  'can',\n",
       "  'be',\n",
       "  'bound',\n",
       "  'to',\n",
       "  'acknowledge',\n",
       "  'and',\n",
       "  'adore',\n",
       "  'the',\n",
       "  'Invisible',\n",
       "  'Hand',\n",
       "  'which',\n",
       "  'conducts',\n",
       "  'the',\n",
       "  'affairs',\n",
       "  'of',\n",
       "  'men',\n",
       "  'more',\n",
       "  'than',\n",
       "  'those',\n",
       "  'of',\n",
       "  'the',\n",
       "  'United',\n",
       "  'States',\n",
       "  '.'],\n",
       " ['Every',\n",
       "  'step',\n",
       "  'by',\n",
       "  'which',\n",
       "  'they',\n",
       "  'have',\n",
       "  'advanced',\n",
       "  'to',\n",
       "  'the',\n",
       "  'character',\n",
       "  'of',\n",
       "  'an',\n",
       "  'independent',\n",
       "  'nation',\n",
       "  'seems',\n",
       "  'to',\n",
       "  'have',\n",
       "  'been',\n",
       "  'distinguished',\n",
       "  'by',\n",
       "  'some',\n",
       "  'token',\n",
       "  'of',\n",
       "  'providential',\n",
       "  'agency',\n",
       "  ';',\n",
       "  'and',\n",
       "  'in',\n",
       "  'the',\n",
       "  'important',\n",
       "  'revolution',\n",
       "  'just',\n",
       "  'accomplished',\n",
       "  'in',\n",
       "  'the',\n",
       "  'system',\n",
       "  'of',\n",
       "  'their',\n",
       "  'united',\n",
       "  'government',\n",
       "  'the',\n",
       "  'tranquil',\n",
       "  'deliberations',\n",
       "  'and',\n",
       "  'voluntary',\n",
       "  'consent',\n",
       "  'of',\n",
       "  'so',\n",
       "  'many',\n",
       "  'distinct',\n",
       "  'communities',\n",
       "  'from',\n",
       "  'which',\n",
       "  'the',\n",
       "  'event',\n",
       "  'has',\n",
       "  'resulted',\n",
       "  'can',\n",
       "  'not',\n",
       "  'be',\n",
       "  'compared',\n",
       "  'with',\n",
       "  'the',\n",
       "  'means',\n",
       "  'by',\n",
       "  'which',\n",
       "  'most',\n",
       "  'governments',\n",
       "  'have',\n",
       "  'been',\n",
       "  'established',\n",
       "  'without',\n",
       "  'some',\n",
       "  'return',\n",
       "  'of',\n",
       "  'pious',\n",
       "  'gratitude',\n",
       "  ',',\n",
       "  'along',\n",
       "  'with',\n",
       "  'an',\n",
       "  'humble',\n",
       "  'anticipation',\n",
       "  'of',\n",
       "  'the',\n",
       "  'future',\n",
       "  'blessings',\n",
       "  'which',\n",
       "  'the',\n",
       "  'past',\n",
       "  'seem',\n",
       "  'to',\n",
       "  'presage',\n",
       "  '.']]"
      ]
     },
     "execution_count": 42,
     "metadata": {},
     "output_type": "execute_result"
    }
   ],
   "source": [
    "tmp_sents = inaugural.sents('1789-Washington.txt')\n",
    "tmp_sents[:10]"
   ]
  },
  {
   "cell_type": "code",
   "execution_count": 45,
   "metadata": {
    "ExecuteTime": {
     "end_time": "2020-03-02T08:56:52.266793Z",
     "start_time": "2020-03-02T08:56:52.257997Z"
    }
   },
   "outputs": [],
   "source": [
    "import nltk\n",
    "from nltk.corpus import stopwords\n",
    "stopwords = set(stopwords.words('english'))"
   ]
  },
  {
   "cell_type": "code",
   "execution_count": 38,
   "metadata": {
    "ExecuteTime": {
     "end_time": "2020-03-02T08:53:27.355660Z",
     "start_time": "2020-03-02T08:53:27.288803Z"
    }
   },
   "outputs": [
    {
     "data": {
      "text/plain": [
       "{'a',\n",
       " 'about',\n",
       " 'above',\n",
       " 'after',\n",
       " 'again',\n",
       " 'against',\n",
       " 'ain',\n",
       " 'all',\n",
       " 'am',\n",
       " 'an',\n",
       " 'and',\n",
       " 'any',\n",
       " 'are',\n",
       " 'aren',\n",
       " \"aren't\",\n",
       " 'as',\n",
       " 'at',\n",
       " 'be',\n",
       " 'because',\n",
       " 'been',\n",
       " 'before',\n",
       " 'being',\n",
       " 'below',\n",
       " 'between',\n",
       " 'both',\n",
       " 'but',\n",
       " 'by',\n",
       " 'can',\n",
       " 'couldn',\n",
       " \"couldn't\",\n",
       " 'd',\n",
       " 'did',\n",
       " 'didn',\n",
       " \"didn't\",\n",
       " 'do',\n",
       " 'does',\n",
       " 'doesn',\n",
       " \"doesn't\",\n",
       " 'doing',\n",
       " 'don',\n",
       " \"don't\",\n",
       " 'down',\n",
       " 'during',\n",
       " 'each',\n",
       " 'few',\n",
       " 'for',\n",
       " 'from',\n",
       " 'further',\n",
       " 'had',\n",
       " 'hadn',\n",
       " \"hadn't\",\n",
       " 'has',\n",
       " 'hasn',\n",
       " \"hasn't\",\n",
       " 'have',\n",
       " 'haven',\n",
       " \"haven't\",\n",
       " 'having',\n",
       " 'he',\n",
       " 'her',\n",
       " 'here',\n",
       " 'hers',\n",
       " 'herself',\n",
       " 'him',\n",
       " 'himself',\n",
       " 'his',\n",
       " 'how',\n",
       " 'i',\n",
       " 'if',\n",
       " 'in',\n",
       " 'into',\n",
       " 'is',\n",
       " 'isn',\n",
       " \"isn't\",\n",
       " 'it',\n",
       " \"it's\",\n",
       " 'its',\n",
       " 'itself',\n",
       " 'just',\n",
       " 'll',\n",
       " 'm',\n",
       " 'ma',\n",
       " 'me',\n",
       " 'mightn',\n",
       " \"mightn't\",\n",
       " 'more',\n",
       " 'most',\n",
       " 'mustn',\n",
       " \"mustn't\",\n",
       " 'my',\n",
       " 'myself',\n",
       " 'needn',\n",
       " \"needn't\",\n",
       " 'no',\n",
       " 'nor',\n",
       " 'not',\n",
       " 'now',\n",
       " 'o',\n",
       " 'of',\n",
       " 'off',\n",
       " 'on',\n",
       " 'once',\n",
       " 'only',\n",
       " 'or',\n",
       " 'other',\n",
       " 'our',\n",
       " 'ours',\n",
       " 'ourselves',\n",
       " 'out',\n",
       " 'over',\n",
       " 'own',\n",
       " 're',\n",
       " 's',\n",
       " 'same',\n",
       " 'shan',\n",
       " \"shan't\",\n",
       " 'she',\n",
       " \"she's\",\n",
       " 'should',\n",
       " \"should've\",\n",
       " 'shouldn',\n",
       " \"shouldn't\",\n",
       " 'so',\n",
       " 'some',\n",
       " 'such',\n",
       " 't',\n",
       " 'than',\n",
       " 'that',\n",
       " \"that'll\",\n",
       " 'the',\n",
       " 'their',\n",
       " 'theirs',\n",
       " 'them',\n",
       " 'themselves',\n",
       " 'then',\n",
       " 'there',\n",
       " 'these',\n",
       " 'they',\n",
       " 'this',\n",
       " 'those',\n",
       " 'through',\n",
       " 'to',\n",
       " 'too',\n",
       " 'under',\n",
       " 'until',\n",
       " 'up',\n",
       " 've',\n",
       " 'very',\n",
       " 'was',\n",
       " 'wasn',\n",
       " \"wasn't\",\n",
       " 'we',\n",
       " 'were',\n",
       " 'weren',\n",
       " \"weren't\",\n",
       " 'what',\n",
       " 'when',\n",
       " 'where',\n",
       " 'which',\n",
       " 'while',\n",
       " 'who',\n",
       " 'whom',\n",
       " 'why',\n",
       " 'will',\n",
       " 'with',\n",
       " 'won',\n",
       " \"won't\",\n",
       " 'wouldn',\n",
       " \"wouldn't\",\n",
       " 'y',\n",
       " 'you',\n",
       " \"you'd\",\n",
       " \"you'll\",\n",
       " \"you're\",\n",
       " \"you've\",\n",
       " 'your',\n",
       " 'yours',\n",
       " 'yourself',\n",
       " 'yourselves'}"
      ]
     },
     "execution_count": 38,
     "metadata": {},
     "output_type": "execute_result"
    }
   ],
   "source": [
    "stopwords"
   ]
  },
  {
   "cell_type": "code",
   "execution_count": 50,
   "metadata": {
    "ExecuteTime": {
     "end_time": "2020-03-02T09:04:11.909310Z",
     "start_time": "2020-03-02T09:04:11.866530Z"
    }
   },
   "outputs": [
    {
     "data": {
      "text/plain": [
       "['Senate',\n",
       " 'House',\n",
       " 'Representatives',\n",
       " 'Among',\n",
       " 'vicissitudes',\n",
       " 'incident',\n",
       " 'life',\n",
       " 'event',\n",
       " 'could',\n",
       " 'filled',\n",
       " 'greater',\n",
       " 'anxieties',\n",
       " 'notification',\n",
       " 'transmitted',\n",
       " 'order',\n",
       " 'received',\n",
       " 'day',\n",
       " 'present',\n",
       " 'month',\n",
       " 'On',\n",
       " 'one',\n",
       " 'hand',\n",
       " 'I',\n",
       " 'summoned',\n",
       " 'Country',\n",
       " 'whose',\n",
       " 'voice',\n",
       " 'I',\n",
       " 'never',\n",
       " 'hear',\n",
       " 'veneration',\n",
       " 'love',\n",
       " 'retreat',\n",
       " 'I',\n",
       " 'chosen',\n",
       " 'fondest',\n",
       " 'predilection',\n",
       " 'flattering',\n",
       " 'hopes',\n",
       " 'immutable',\n",
       " 'decision',\n",
       " 'asylum',\n",
       " 'declining',\n",
       " 'years',\n",
       " 'retreat',\n",
       " 'rendered',\n",
       " 'every',\n",
       " 'day',\n",
       " 'necessary',\n",
       " 'well',\n",
       " 'dear',\n",
       " 'addition',\n",
       " 'habit',\n",
       " 'inclination',\n",
       " 'frequent',\n",
       " 'interruptions',\n",
       " 'health',\n",
       " 'gradual',\n",
       " 'waste',\n",
       " 'committed',\n",
       " 'time',\n",
       " 'On',\n",
       " 'hand',\n",
       " 'magnitude',\n",
       " 'difficulty',\n",
       " 'trust',\n",
       " 'voice',\n",
       " 'country',\n",
       " 'called',\n",
       " 'sufficient',\n",
       " 'awaken',\n",
       " 'wisest',\n",
       " 'experienced',\n",
       " 'citizens',\n",
       " 'distrustful',\n",
       " 'scrutiny',\n",
       " 'qualifications',\n",
       " 'could',\n",
       " 'overwhelm',\n",
       " 'despondence',\n",
       " 'one',\n",
       " 'inheriting',\n",
       " 'inferior',\n",
       " 'endowments',\n",
       " 'nature',\n",
       " 'unpracticed',\n",
       " 'duties',\n",
       " 'civil',\n",
       " 'administration',\n",
       " 'ought',\n",
       " 'peculiarly',\n",
       " 'conscious',\n",
       " 'deficiencies',\n",
       " 'In',\n",
       " 'conflict',\n",
       " 'emotions',\n",
       " 'I',\n",
       " 'dare',\n",
       " 'aver',\n",
       " 'faithful',\n",
       " 'study',\n",
       " 'collect',\n",
       " 'duty',\n",
       " 'appreciation',\n",
       " 'every',\n",
       " 'circumstance',\n",
       " 'might',\n",
       " 'affected',\n",
       " 'All',\n",
       " 'I',\n",
       " 'dare',\n",
       " 'hope',\n",
       " 'executing',\n",
       " 'task',\n",
       " 'I',\n",
       " 'much',\n",
       " 'swayed',\n",
       " 'grateful',\n",
       " 'remembrance',\n",
       " 'former',\n",
       " 'instances',\n",
       " 'affectionate',\n",
       " 'sensibility',\n",
       " 'transcendent',\n",
       " 'proof',\n",
       " 'confidence',\n",
       " 'fellow',\n",
       " 'citizens',\n",
       " 'thence',\n",
       " 'little',\n",
       " 'consulted',\n",
       " 'incapacity',\n",
       " 'well',\n",
       " 'disinclination',\n",
       " 'weighty',\n",
       " 'untried',\n",
       " 'cares',\n",
       " 'error',\n",
       " 'palliated',\n",
       " 'motives',\n",
       " 'mislead',\n",
       " 'consequences',\n",
       " 'judged',\n",
       " 'country',\n",
       " 'share',\n",
       " 'partiality',\n",
       " 'originated',\n",
       " 'Such',\n",
       " 'impressions',\n",
       " 'I',\n",
       " 'obedience',\n",
       " 'public',\n",
       " 'summons',\n",
       " 'repaired',\n",
       " 'present',\n",
       " 'station',\n",
       " 'would',\n",
       " 'peculiarly',\n",
       " 'improper',\n",
       " 'omit',\n",
       " 'first',\n",
       " 'official',\n",
       " 'act',\n",
       " 'fervent',\n",
       " 'supplications',\n",
       " 'Almighty',\n",
       " 'Being',\n",
       " 'rules',\n",
       " 'universe',\n",
       " 'presides',\n",
       " 'councils',\n",
       " 'nations',\n",
       " 'whose',\n",
       " 'providential',\n",
       " 'aids',\n",
       " 'supply',\n",
       " 'every',\n",
       " 'human',\n",
       " 'defect',\n",
       " 'His',\n",
       " 'benediction',\n",
       " 'may',\n",
       " 'consecrate',\n",
       " 'liberties',\n",
       " 'happiness',\n",
       " 'people',\n",
       " 'United',\n",
       " 'States',\n",
       " 'Government',\n",
       " 'instituted',\n",
       " 'essential',\n",
       " 'purposes',\n",
       " 'may',\n",
       " 'enable',\n",
       " 'every',\n",
       " 'instrument',\n",
       " 'employed',\n",
       " 'administration',\n",
       " 'execute',\n",
       " 'success',\n",
       " 'functions',\n",
       " 'allotted',\n",
       " 'charge',\n",
       " 'In',\n",
       " 'tendering',\n",
       " 'homage',\n",
       " 'Great',\n",
       " 'Author',\n",
       " 'every',\n",
       " 'public',\n",
       " 'private',\n",
       " 'good',\n",
       " 'I',\n",
       " 'assure',\n",
       " 'expresses',\n",
       " 'sentiments',\n",
       " 'less',\n",
       " 'fellow',\n",
       " 'citizens',\n",
       " 'large',\n",
       " 'less',\n",
       " 'either',\n",
       " 'No',\n",
       " 'people',\n",
       " 'bound',\n",
       " 'acknowledge',\n",
       " 'adore',\n",
       " 'Invisible',\n",
       " 'Hand',\n",
       " 'conducts',\n",
       " 'affairs',\n",
       " 'men',\n",
       " 'United',\n",
       " 'States',\n",
       " 'Every',\n",
       " 'step',\n",
       " 'advanced',\n",
       " 'character',\n",
       " 'independent',\n",
       " 'nation',\n",
       " 'seems',\n",
       " 'distinguished',\n",
       " 'token',\n",
       " 'providential',\n",
       " 'agency',\n",
       " 'important',\n",
       " 'revolution',\n",
       " 'accomplished',\n",
       " 'system',\n",
       " 'united',\n",
       " 'government',\n",
       " 'tranquil',\n",
       " 'deliberations',\n",
       " 'voluntary',\n",
       " 'consent',\n",
       " 'many',\n",
       " 'distinct',\n",
       " 'communities',\n",
       " 'event',\n",
       " 'resulted',\n",
       " 'compared',\n",
       " 'means',\n",
       " 'governments',\n",
       " 'established',\n",
       " 'without',\n",
       " 'return',\n",
       " 'pious',\n",
       " 'gratitude',\n",
       " 'along',\n",
       " 'humble',\n",
       " 'anticipation',\n",
       " 'future',\n",
       " 'blessings',\n",
       " 'past',\n",
       " 'seem',\n",
       " 'presage',\n",
       " 'These',\n",
       " 'reflections',\n",
       " 'arising',\n",
       " 'present',\n",
       " 'crisis',\n",
       " 'forced',\n",
       " 'strongly',\n",
       " 'mind',\n",
       " 'suppressed',\n",
       " 'You',\n",
       " 'join',\n",
       " 'I',\n",
       " 'trust',\n",
       " 'thinking',\n",
       " 'none',\n",
       " 'influence',\n",
       " 'proceedings',\n",
       " 'new',\n",
       " 'free',\n",
       " 'government',\n",
       " 'auspiciously',\n",
       " 'commence',\n",
       " 'By',\n",
       " 'article',\n",
       " 'establishing',\n",
       " 'executive',\n",
       " 'department',\n",
       " 'made',\n",
       " 'duty',\n",
       " 'President',\n",
       " 'recommend',\n",
       " 'consideration',\n",
       " 'measures',\n",
       " 'shall',\n",
       " 'judge',\n",
       " 'necessary',\n",
       " 'expedient',\n",
       " 'The',\n",
       " 'circumstances',\n",
       " 'I',\n",
       " 'meet',\n",
       " 'acquit',\n",
       " 'entering',\n",
       " 'subject',\n",
       " 'refer',\n",
       " 'great',\n",
       " 'constitutional',\n",
       " 'charter',\n",
       " 'assembled',\n",
       " 'defining',\n",
       " 'powers',\n",
       " 'designates',\n",
       " 'objects',\n",
       " 'attention',\n",
       " 'given',\n",
       " 'It',\n",
       " 'consistent',\n",
       " 'circumstances',\n",
       " 'far',\n",
       " 'congenial',\n",
       " 'feelings',\n",
       " 'actuate',\n",
       " 'substitute',\n",
       " 'place',\n",
       " 'recommendation',\n",
       " 'particular',\n",
       " 'measures',\n",
       " 'tribute',\n",
       " 'due',\n",
       " 'talents',\n",
       " 'rectitude',\n",
       " 'patriotism',\n",
       " 'adorn',\n",
       " 'characters',\n",
       " 'selected',\n",
       " 'devise',\n",
       " 'adopt',\n",
       " 'In',\n",
       " 'honorable',\n",
       " 'qualifications',\n",
       " 'I',\n",
       " 'behold',\n",
       " 'surest',\n",
       " 'pledges',\n",
       " 'one',\n",
       " 'side',\n",
       " 'local',\n",
       " 'prejudices',\n",
       " 'attachments',\n",
       " 'separate',\n",
       " 'views',\n",
       " 'party',\n",
       " 'animosities',\n",
       " 'misdirect',\n",
       " 'comprehensive',\n",
       " 'equal',\n",
       " 'eye',\n",
       " 'ought',\n",
       " 'watch',\n",
       " 'great',\n",
       " 'assemblage',\n",
       " 'communities',\n",
       " 'interests',\n",
       " 'another',\n",
       " 'foundation',\n",
       " 'national',\n",
       " 'policy',\n",
       " 'laid',\n",
       " 'pure',\n",
       " 'immutable',\n",
       " 'principles',\n",
       " 'private',\n",
       " 'morality',\n",
       " 'preeminence',\n",
       " 'free',\n",
       " 'government',\n",
       " 'exemplified',\n",
       " 'attributes',\n",
       " 'win',\n",
       " 'affections',\n",
       " 'citizens',\n",
       " 'command',\n",
       " 'respect',\n",
       " 'world',\n",
       " 'I',\n",
       " 'dwell',\n",
       " 'prospect',\n",
       " 'every',\n",
       " 'satisfaction',\n",
       " 'ardent',\n",
       " 'love',\n",
       " 'country',\n",
       " 'inspire',\n",
       " 'since',\n",
       " 'truth',\n",
       " 'thoroughly',\n",
       " 'established',\n",
       " 'exists',\n",
       " 'economy',\n",
       " 'course',\n",
       " 'nature',\n",
       " 'indissoluble',\n",
       " 'union',\n",
       " 'virtue',\n",
       " 'happiness',\n",
       " 'duty',\n",
       " 'advantage',\n",
       " 'genuine',\n",
       " 'maxims',\n",
       " 'honest',\n",
       " 'magnanimous',\n",
       " 'policy',\n",
       " 'solid',\n",
       " 'rewards',\n",
       " 'public',\n",
       " 'prosperity',\n",
       " 'felicity',\n",
       " 'since',\n",
       " 'ought',\n",
       " 'less',\n",
       " 'persuaded',\n",
       " 'propitious',\n",
       " 'smiles',\n",
       " 'Heaven',\n",
       " 'never',\n",
       " 'expected',\n",
       " 'nation',\n",
       " 'disregards',\n",
       " 'eternal',\n",
       " 'rules',\n",
       " 'order',\n",
       " 'right',\n",
       " 'Heaven',\n",
       " 'ordained',\n",
       " 'since',\n",
       " 'preservation',\n",
       " 'sacred',\n",
       " 'fire',\n",
       " 'liberty',\n",
       " 'destiny',\n",
       " 'republican',\n",
       " 'model',\n",
       " 'government',\n",
       " 'justly',\n",
       " 'considered',\n",
       " 'perhaps',\n",
       " 'deeply',\n",
       " 'finally',\n",
       " 'staked',\n",
       " 'experiment',\n",
       " 'entrusted',\n",
       " 'hands',\n",
       " 'American',\n",
       " 'people',\n",
       " 'Besides',\n",
       " 'ordinary',\n",
       " 'objects',\n",
       " 'submitted',\n",
       " 'care',\n",
       " 'remain',\n",
       " 'judgment',\n",
       " 'decide',\n",
       " 'far',\n",
       " 'exercise',\n",
       " 'occasional',\n",
       " 'power',\n",
       " 'delegated',\n",
       " 'fifth',\n",
       " 'article',\n",
       " 'Constitution',\n",
       " 'rendered',\n",
       " 'expedient',\n",
       " 'present',\n",
       " 'juncture',\n",
       " 'nature',\n",
       " 'objections',\n",
       " 'urged',\n",
       " 'system',\n",
       " 'degree',\n",
       " 'inquietude',\n",
       " 'given',\n",
       " 'birth',\n",
       " 'Instead',\n",
       " 'undertaking',\n",
       " 'particular',\n",
       " 'recommendations',\n",
       " 'subject',\n",
       " 'I',\n",
       " 'could',\n",
       " 'guided',\n",
       " 'lights',\n",
       " 'derived',\n",
       " 'official',\n",
       " 'opportunities',\n",
       " 'I',\n",
       " 'shall',\n",
       " 'give',\n",
       " 'way',\n",
       " 'entire',\n",
       " 'confidence',\n",
       " 'discernment',\n",
       " 'pursuit',\n",
       " 'public',\n",
       " 'good',\n",
       " 'I',\n",
       " 'assure',\n",
       " 'whilst',\n",
       " 'carefully',\n",
       " 'avoid',\n",
       " 'every',\n",
       " 'alteration',\n",
       " 'might',\n",
       " 'endanger',\n",
       " 'benefits',\n",
       " 'united',\n",
       " 'effective',\n",
       " 'government',\n",
       " 'ought',\n",
       " 'await',\n",
       " 'future',\n",
       " 'lessons',\n",
       " 'experience',\n",
       " 'reverence',\n",
       " 'characteristic',\n",
       " 'rights',\n",
       " 'freemen',\n",
       " 'regard',\n",
       " 'public',\n",
       " 'harmony',\n",
       " 'sufficiently',\n",
       " 'influence',\n",
       " 'deliberations',\n",
       " 'question',\n",
       " 'far',\n",
       " 'former',\n",
       " 'impregnably',\n",
       " 'fortified',\n",
       " 'latter',\n",
       " 'safely',\n",
       " 'advantageously',\n",
       " 'promoted',\n",
       " 'To',\n",
       " 'foregoing',\n",
       " 'observations',\n",
       " 'I',\n",
       " 'one',\n",
       " 'add',\n",
       " 'properly',\n",
       " 'addressed',\n",
       " 'House',\n",
       " 'Representatives',\n",
       " 'It',\n",
       " 'concerns',\n",
       " 'therefore',\n",
       " 'brief',\n",
       " 'possible',\n",
       " 'When',\n",
       " 'I',\n",
       " 'first',\n",
       " 'honored',\n",
       " 'call',\n",
       " 'service',\n",
       " 'country',\n",
       " 'eve',\n",
       " 'arduous',\n",
       " 'struggle',\n",
       " 'liberties',\n",
       " 'light',\n",
       " 'I',\n",
       " 'contemplated',\n",
       " 'duty',\n",
       " 'required',\n",
       " 'I',\n",
       " 'renounce',\n",
       " 'every',\n",
       " 'pecuniary',\n",
       " 'compensation',\n",
       " 'From',\n",
       " 'resolution',\n",
       " 'I',\n",
       " 'instance',\n",
       " 'departed',\n",
       " 'still',\n",
       " 'impressions',\n",
       " 'produced',\n",
       " 'I',\n",
       " 'must',\n",
       " 'decline',\n",
       " 'inapplicable',\n",
       " 'share',\n",
       " 'personal',\n",
       " 'emoluments',\n",
       " 'may',\n",
       " 'indispensably',\n",
       " 'included',\n",
       " 'permanent',\n",
       " 'provision',\n",
       " 'executive',\n",
       " 'department',\n",
       " 'must',\n",
       " 'accordingly',\n",
       " 'pray',\n",
       " 'pecuniary',\n",
       " 'estimates',\n",
       " 'station',\n",
       " 'I',\n",
       " 'placed',\n",
       " 'may',\n",
       " 'continuance',\n",
       " 'limited',\n",
       " 'actual',\n",
       " 'expenditures',\n",
       " 'public',\n",
       " 'good',\n",
       " 'may',\n",
       " 'thought',\n",
       " 'require',\n",
       " 'Having',\n",
       " 'thus',\n",
       " 'imparted',\n",
       " 'sentiments',\n",
       " 'awakened',\n",
       " 'occasion',\n",
       " 'brings',\n",
       " 'us',\n",
       " 'together',\n",
       " 'I',\n",
       " 'shall',\n",
       " 'take',\n",
       " 'present',\n",
       " 'leave',\n",
       " 'without',\n",
       " 'resorting',\n",
       " 'benign',\n",
       " 'Parent',\n",
       " 'Human',\n",
       " 'Race',\n",
       " 'humble',\n",
       " 'supplication',\n",
       " 'since',\n",
       " 'He',\n",
       " 'pleased',\n",
       " 'favor',\n",
       " 'American',\n",
       " 'people',\n",
       " 'opportunities',\n",
       " 'deliberating',\n",
       " 'perfect',\n",
       " 'tranquillity',\n",
       " 'dispositions',\n",
       " 'deciding',\n",
       " 'unparalleled',\n",
       " 'unanimity',\n",
       " 'form',\n",
       " 'government',\n",
       " 'security',\n",
       " 'union',\n",
       " 'advancement',\n",
       " 'happiness',\n",
       " 'His',\n",
       " 'divine',\n",
       " 'blessing',\n",
       " 'may',\n",
       " 'equally',\n",
       " 'conspicuous',\n",
       " 'enlarged',\n",
       " 'views',\n",
       " 'temperate',\n",
       " 'consultations',\n",
       " 'wise',\n",
       " 'measures',\n",
       " 'success',\n",
       " 'Government',\n",
       " 'must',\n",
       " 'depend']"
      ]
     },
     "execution_count": 50,
     "metadata": {},
     "output_type": "execute_result"
    }
   ],
   "source": [
    "[word for word in nltk.word_tokenize(tmp) if word not in stopwords and word.isalpha()]"
   ]
  },
  {
   "cell_type": "code",
   "execution_count": 52,
   "metadata": {
    "ExecuteTime": {
     "end_time": "2020-03-02T09:27:55.423839Z",
     "start_time": "2020-03-02T09:27:55.417767Z"
    }
   },
   "outputs": [],
   "source": [
    "import nltk.data\n",
    "from nltk.tokenize.punkt import PunktSentenceTokenizer\n",
    "sent_detector = nltk.data.load('tokenizers/punkt/english.pickle')"
   ]
  },
  {
   "cell_type": "code",
   "execution_count": 54,
   "metadata": {
    "ExecuteTime": {
     "end_time": "2020-03-02T09:28:57.645258Z",
     "start_time": "2020-03-02T09:28:57.629194Z"
    }
   },
   "outputs": [],
   "source": [
    "obj = PunktSentenceTokenizer()"
   ]
  },
  {
   "cell_type": "code",
   "execution_count": 56,
   "metadata": {
    "ExecuteTime": {
     "end_time": "2020-03-02T09:29:14.337872Z",
     "start_time": "2020-03-02T09:29:14.324173Z"
    }
   },
   "outputs": [],
   "source": [
    "tokens = nltk.word_tokenize(tmp)"
   ]
  },
  {
   "cell_type": "code",
   "execution_count": 59,
   "metadata": {
    "ExecuteTime": {
     "end_time": "2020-03-02T09:29:33.665818Z",
     "start_time": "2020-03-02T09:29:33.660506Z"
    }
   },
   "outputs": [],
   "source": [
    "sents = obj.sentences_from_tokens(tokens)"
   ]
  },
  {
   "cell_type": "code",
   "execution_count": 60,
   "metadata": {
    "ExecuteTime": {
     "end_time": "2020-03-02T09:29:39.330572Z",
     "start_time": "2020-03-02T09:29:39.312787Z"
    }
   },
   "outputs": [
    {
     "name": "stdout",
     "output_type": "stream",
     "text": [
      "<generator object PunktSentenceTokenizer.sentences_from_tokens at 0x11f61e048>\n"
     ]
    }
   ],
   "source": [
    "print(sents)"
   ]
  },
  {
   "cell_type": "code",
   "execution_count": 62,
   "metadata": {
    "ExecuteTime": {
     "end_time": "2020-03-02T09:31:26.487255Z",
     "start_time": "2020-03-02T09:31:26.480569Z"
    }
   },
   "outputs": [],
   "source": [
    "from nltk.tokenize import RegexpTokenizer\n",
    "tokenizer = RegexpTokenizer(r'\\w+')"
   ]
  },
  {
   "cell_type": "code",
   "execution_count": 68,
   "metadata": {
    "ExecuteTime": {
     "end_time": "2020-03-02T09:33:18.114922Z",
     "start_time": "2020-03-02T09:33:18.110287Z"
    }
   },
   "outputs": [],
   "source": [
    "# print(tmp)"
   ]
  },
  {
   "cell_type": "code",
   "execution_count": 69,
   "metadata": {
    "ExecuteTime": {
     "end_time": "2020-03-02T09:33:21.757446Z",
     "start_time": "2020-03-02T09:33:21.733982Z"
    }
   },
   "outputs": [
    {
     "ename": "TypeError",
     "evalue": "expected string or bytes-like object",
     "output_type": "error",
     "traceback": [
      "\u001b[0;31m-------------------------------------------------------------------\u001b[0m",
      "\u001b[0;31mTypeError\u001b[0m                         Traceback (most recent call last)",
      "\u001b[0;32m<ipython-input-69-e954c2bd8ccb>\u001b[0m in \u001b[0;36m<module>\u001b[0;34m\u001b[0m\n\u001b[0;32m----> 1\u001b[0;31m \u001b[0mtokenizer\u001b[0m\u001b[0;34m.\u001b[0m\u001b[0mtokenize\u001b[0m\u001b[0;34m(\u001b[0m\u001b[0mtokens\u001b[0m\u001b[0;34m)\u001b[0m\u001b[0;34m\u001b[0m\u001b[0m\n\u001b[0m",
      "\u001b[0;32m/Library/Frameworks/Python.framework/Versions/3.7/lib/python3.7/site-packages/nltk/tokenize/regexp.py\u001b[0m in \u001b[0;36mtokenize\u001b[0;34m(self, text)\u001b[0m\n\u001b[1;32m    127\u001b[0m         \u001b[0;31m# If our regexp matches tokens, use re.findall:\u001b[0m\u001b[0;34m\u001b[0m\u001b[0;34m\u001b[0m\u001b[0m\n\u001b[1;32m    128\u001b[0m         \u001b[0;32melse\u001b[0m\u001b[0;34m:\u001b[0m\u001b[0;34m\u001b[0m\u001b[0m\n\u001b[0;32m--> 129\u001b[0;31m             \u001b[0;32mreturn\u001b[0m \u001b[0mself\u001b[0m\u001b[0;34m.\u001b[0m\u001b[0m_regexp\u001b[0m\u001b[0;34m.\u001b[0m\u001b[0mfindall\u001b[0m\u001b[0;34m(\u001b[0m\u001b[0mtext\u001b[0m\u001b[0;34m)\u001b[0m\u001b[0;34m\u001b[0m\u001b[0m\n\u001b[0m\u001b[1;32m    130\u001b[0m \u001b[0;34m\u001b[0m\u001b[0m\n\u001b[1;32m    131\u001b[0m     \u001b[0;32mdef\u001b[0m \u001b[0mspan_tokenize\u001b[0m\u001b[0;34m(\u001b[0m\u001b[0mself\u001b[0m\u001b[0;34m,\u001b[0m \u001b[0mtext\u001b[0m\u001b[0;34m)\u001b[0m\u001b[0;34m:\u001b[0m\u001b[0;34m\u001b[0m\u001b[0m\n",
      "\u001b[0;31mTypeError\u001b[0m: expected string or bytes-like object"
     ]
    }
   ],
   "source": [
    "tokenizer.tokenize(tokens)"
   ]
  },
  {
   "cell_type": "code",
   "execution_count": 70,
   "metadata": {
    "ExecuteTime": {
     "end_time": "2020-03-02T10:43:08.054364Z",
     "start_time": "2020-03-02T10:43:08.046787Z"
    }
   },
   "outputs": [],
   "source": [
    "miin = 0\n",
    "maax = 10"
   ]
  },
  {
   "cell_type": "code",
   "execution_count": 71,
   "metadata": {
    "ExecuteTime": {
     "end_time": "2020-03-02T10:44:21.330632Z",
     "start_time": "2020-03-02T10:44:20.513957Z"
    }
   },
   "outputs": [],
   "source": [
    "import pandas as pd"
   ]
  },
  {
   "cell_type": "code",
   "execution_count": 74,
   "metadata": {
    "ExecuteTime": {
     "end_time": "2020-03-02T10:45:05.127079Z",
     "start_time": "2020-03-02T10:45:05.114947Z"
    }
   },
   "outputs": [],
   "source": [
    "rangeslider = pd.qcut(range(10), 4)"
   ]
  },
  {
   "cell_type": "code",
   "execution_count": 75,
   "metadata": {
    "ExecuteTime": {
     "end_time": "2020-03-02T10:45:09.248801Z",
     "start_time": "2020-03-02T10:45:09.242492Z"
    }
   },
   "outputs": [
    {
     "data": {
      "text/plain": [
       "['T', '__array__', '__array_priority__', '__bytes__', '__class__', '__contains__', '__delattr__', '__dict__', '__dir__', '__doc__', '__eq__', '__format__', '__ge__', '__getattribute__', '__getitem__', '__gt__', '__hash__', '__init__', '__init_subclass__', '__iter__', '__le__', '__len__', '__lt__', '__module__', '__ne__', '__new__', '__reduce__', '__reduce_ex__', '__repr__', '__setattr__', '__setitem__', '__setstate__', '__sizeof__', '__str__', '__subclasshook__', '__unicode__', '__weakref__', '_accessors', '_can_hold_na', '_codes', '_concat_same_type', '_constructor', '_deprecations', '_dir_additions', '_dir_deletions', '_dtype', '_formatter', '_formatting_values', '_from_factorized', '_from_inferred_categories', '_from_sequence', '_from_sequence_of_strings', '_get_codes', '_get_repr', '_maybe_coerce_indexer', '_ndarray_values', '_reduce', '_repr_categories', '_repr_categories_info', '_repr_footer', '_reset_cache', '_reverse_indexer', '_set_categories', '_set_codes', '_set_dtype', '_slice', '_tidy_repr', '_typ', '_values_for_argsort', '_values_for_factorize', '_values_for_rank', 'add_categories', 'argsort', 'as_ordered', 'as_unordered', 'astype', 'base', 'categories', 'check_for_ordered', 'codes', 'copy', 'describe', 'dropna', 'dtype', 'equals', 'factorize', 'fillna', 'from_codes', 'get_values', 'is_dtype_equal', 'isin', 'isna', 'isnull', 'itemsize', 'map', 'max', 'memory_usage', 'min', 'mode', 'nbytes', 'ndim', 'notna', 'notnull', 'ordered', 'put', 'ravel', 'remove_categories', 'remove_unused_categories', 'rename_categories', 'reorder_categories', 'repeat', 'searchsorted', 'set_categories', 'set_ordered', 'shape', 'shift', 'size', 'sort_values', 'take', 'take_nd', 'to_dense', 'to_list', 'unique', 'value_counts', 'view']"
      ]
     },
     "execution_count": 75,
     "metadata": {},
     "output_type": "execute_result"
    }
   ],
   "source": [
    "dir(rangeslider)"
   ]
  },
  {
   "cell_type": "code",
   "execution_count": 84,
   "metadata": {
    "ExecuteTime": {
     "end_time": "2020-03-02T10:46:40.230027Z",
     "start_time": "2020-03-02T10:46:40.220861Z"
    }
   },
   "outputs": [
    {
     "data": {
      "text/plain": [
       "2"
      ]
     },
     "execution_count": 84,
     "metadata": {},
     "output_type": "execute_result"
    }
   ],
   "source": [
    "int(maax*0.25)"
   ]
  },
  {
   "cell_type": "code",
   "execution_count": 86,
   "metadata": {
    "ExecuteTime": {
     "end_time": "2020-03-02T10:46:54.437951Z",
     "start_time": "2020-03-02T10:46:54.431337Z"
    }
   },
   "outputs": [
    {
     "data": {
      "text/plain": [
       "5"
      ]
     },
     "execution_count": 86,
     "metadata": {},
     "output_type": "execute_result"
    }
   ],
   "source": [
    "int(maax*0.5)"
   ]
  },
  {
   "cell_type": "code",
   "execution_count": null,
   "metadata": {},
   "outputs": [],
   "source": []
  }
 ],
 "metadata": {
  "kernelspec": {
   "display_name": "Python 3",
   "language": "python",
   "name": "python3"
  },
  "language_info": {
   "codemirror_mode": {
    "name": "ipython",
    "version": 3
   },
   "file_extension": ".py",
   "mimetype": "text/x-python",
   "name": "python",
   "nbconvert_exporter": "python",
   "pygments_lexer": "ipython3",
   "version": "3.7.0"
  },
  "toc": {
   "base_numbering": 1,
   "nav_menu": {},
   "number_sections": true,
   "sideBar": true,
   "skip_h1_title": false,
   "title_cell": "Table of Contents",
   "title_sidebar": "Contents",
   "toc_cell": false,
   "toc_position": {},
   "toc_section_display": true,
   "toc_window_display": false
  }
 },
 "nbformat": 4,
 "nbformat_minor": 2
}
